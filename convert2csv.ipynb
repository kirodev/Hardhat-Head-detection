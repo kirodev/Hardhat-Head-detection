{
  "nbformat": 4,
  "nbformat_minor": 0,
  "metadata": {
    "colab": {
      "name": "convert2csv.ipynb",
      "provenance": [],
      "collapsed_sections": []
    },
    "kernelspec": {
      "name": "python3",
      "display_name": "Python 3"
    },
    "language_info": {
      "name": "python"
    }
  },
  "cells": [
    {
      "cell_type": "code",
      "metadata": {
        "id": "nA5M0JFCI5bt"
      },
      "source": [
        "\n",
        "import matplotlib.pyplot as plt\n",
        "\n",
        "import os\n",
        "import random\n",
        "import io\n",
        "import imageio\n",
        "import glob\n",
        "import scipy\n",
        "import numpy as np\n",
        "import cv2\n",
        "\n",
        "#import tensorflow as tf\n",
        "import hashlib\n",
        "import pathlib\n",
        "\n",
        "from PIL import Image\n",
        "from six import BytesIO\n",
        "\n"
      ],
      "execution_count": null,
      "outputs": []
    },
    {
      "cell_type": "code",
      "metadata": {
        "id": "HA6TxAdiM3lw"
      },
      "source": [
        "os.chdir('/content/drive/MyDrive/Wobot.ai')\n"
      ],
      "execution_count": null,
      "outputs": []
    },
    {
      "cell_type": "code",
      "metadata": {
        "id": "3Y5aedxGiVsA"
      },
      "source": [
        "base_dir = '/content/drive/MyDrive/Wobot.ai/HardHat_Dataset'"
      ],
      "execution_count": null,
      "outputs": []
    },
    {
      "cell_type": "code",
      "metadata": {
        "id": "93CH3kB-jWv_"
      },
      "source": [
        "train_dir = os.path.join(base_dir, 'train')\n"
      ],
      "execution_count": null,
      "outputs": []
    },
    {
      "cell_type": "code",
      "metadata": {
        "id": "wZ6svLaNjlZW"
      },
      "source": [
        "os.mkdir(train_dir)"
      ],
      "execution_count": null,
      "outputs": []
    },
    {
      "cell_type": "code",
      "metadata": {
        "id": "3pe15o3Sjamk"
      },
      "source": [
        "test_dir = os.path.join(base_dir, 'test')\n",
        "os.mkdir(test_dir)"
      ],
      "execution_count": null,
      "outputs": []
    },
    {
      "cell_type": "code",
      "metadata": {
        "id": "qzO1bq5-jAl_"
      },
      "source": [
        "from shutil import copyfile"
      ],
      "execution_count": null,
      "outputs": []
    },
    {
      "cell_type": "code",
      "metadata": {
        "id": "KG3B7_ETi4HW"
      },
      "source": [
        "all_imgs = os.listdir(os.path.join(base_dir, 'images'))\n",
        "random.seed(1)\n",
        "random.shuffle(all_imgs)\n",
        "\n",
        "train_imgs = all_imgs[:3800]\n",
        "test_imgs = all_imgs[3800:]"
      ],
      "execution_count": null,
      "outputs": []
    },
    {
      "cell_type": "code",
      "metadata": {
        "id": "ed8CTUivjEMS"
      },
      "source": [
        "for i in range(len(train_imgs)):\n",
        "  original_path = os.path.join(os.path.join(base_dir, 'images'), train_imgs[i])\n",
        "  new_path = os.path.join(train_dir, train_imgs[i]) \n",
        "  copyfile(original_path, new_path)\n"
      ],
      "execution_count": null,
      "outputs": []
    },
    {
      "cell_type": "code",
      "metadata": {
        "id": "QntEnHKKjECs"
      },
      "source": [
        "for i in range(len(test_imgs)):\n",
        "  original_path = os.path.join(os.path.join(base_dir, 'images'), test_imgs[i])\n",
        "  new_path = os.path.join(test_dir, test_imgs[i])\n",
        "  copyfile(original_path, new_path)"
      ],
      "execution_count": null,
      "outputs": []
    },
    {
      "cell_type": "code",
      "metadata": {
        "id": "0ZEx3wYNrIyc"
      },
      "source": [
        "import xml.etree.ElementTree as ET"
      ],
      "execution_count": null,
      "outputs": []
    },
    {
      "cell_type": "code",
      "metadata": {
        "id": "PJQTynXvjD18"
      },
      "source": [
        "def read_content_from_xml(xml_file: str):\n",
        "  tree = ET.parse(xml_file)\n",
        "  root = tree.getroot()\n",
        "\n",
        "  list_with_all_boxes = []\n",
        "\n",
        "  for boxes in root.iter('object'):\n",
        "    \n",
        "    filename = root.find('filename').text\n",
        "    classname = boxes.find(\"name\").text\n",
        "    \n",
        "    ymin, xmin, ymax, xmax = None, None, None, None\n",
        "      \n",
        "    ymin = int(float(boxes.find(\"bndbox/ymin\").text))\n",
        "    xmin = int(float(boxes.find(\"bndbox/xmin\").text))\n",
        "    ymax = int(float(boxes.find(\"bndbox/ymax\").text))\n",
        "    xmax = int(float(boxes.find(\"bndbox/xmax\").text))\n",
        "\n",
        "    list_with_Separate_boxes = [filename, xmin, ymin, xmax, ymax, classname]\n",
        "    list_with_all_boxes.append(list_with_Separate_boxes)\n",
        "  return list_with_all_boxes"
      ],
      "execution_count": null,
      "outputs": []
    },
    {
      "cell_type": "code",
      "metadata": {
        "id": "ZDATfgDSm-qQ"
      },
      "source": [
        "annot_dir = os.path.join(base_dir, 'annotations')"
      ],
      "execution_count": null,
      "outputs": []
    },
    {
      "cell_type": "code",
      "metadata": {
        "id": "Urx0lukar6XS"
      },
      "source": [
        "import pandas as pd"
      ],
      "execution_count": null,
      "outputs": []
    },
    {
      "cell_type": "code",
      "metadata": {
        "id": "AmpR5cpkm-m4"
      },
      "source": [
        "train_annot = pd.DataFrame()\n",
        "for i in train_imgs:\n",
        "  annot_file = i[:-3] + 'xml'\n",
        "  row = read_content_from_xml(os.path.join(annot_dir, annot_file))\n",
        "  if row:\n",
        "    train_annot = train_annot.append(row, ignore_index = True)\n",
        "train_annot.columns = ['name', 'xmin', 'ymin', 'xmax', 'ymax', 'class']\n"
      ],
      "execution_count": null,
      "outputs": []
    },
    {
      "cell_type": "code",
      "metadata": {
        "id": "yirQYQqxnHur"
      },
      "source": [
        "train_annot.to_csv('/content/drive/MyDrive/Wobot.ai/HardHat_Dataset/train_labels.csv',index=None)"
      ],
      "execution_count": null,
      "outputs": []
    },
    {
      "cell_type": "code",
      "metadata": {
        "id": "dekFLhImr3zc"
      },
      "source": [
        ""
      ],
      "execution_count": null,
      "outputs": []
    },
    {
      "cell_type": "code",
      "metadata": {
        "id": "y_Jae2H9nPib"
      },
      "source": [
        "test_annot = pd.DataFrame()\n",
        "\n",
        "for i in test_imgs:\n",
        "  annot_file = i[:-3] + 'xml'\n",
        "  row = read_content_from_xml(os.path.join(annot_dir, annot_file))\n",
        "  if row:\n",
        "    test_annot = test_annot.append(row, ignore_index = True)\n",
        "test_annot.columns = ['name', 'xmin', 'ymin', 'xmax', 'ymax', 'class']"
      ],
      "execution_count": null,
      "outputs": []
    },
    {
      "cell_type": "code",
      "metadata": {
        "id": "5mRGG2bjnPe5"
      },
      "source": [
        "test_annot.to_csv('/content/drive/MyDrive/Wobot.ai/HardHat_Dataset/test_labels.csv',index= None)"
      ],
      "execution_count": null,
      "outputs": []
    },
    {
      "cell_type": "code",
      "metadata": {
        "id": "ag6MGr98uHH6"
      },
      "source": [
        "def convert_classes(classes, start=1):\n",
        "    msg = ''\n",
        "    for id, name in enumerate(classes, start=start):\n",
        "        msg = msg + \"item {\\n\"\n",
        "        msg = msg + \" id: \" + str(id) + \"\\n\"\n",
        "        msg = msg + \" name: '\" + name + \"'\\n}\\n\\n\"\n",
        "    return msg[:-1]"
      ],
      "execution_count": null,
      "outputs": []
    },
    {
      "cell_type": "code",
      "metadata": {
        "id": "AjLDe7RxuG9S"
      },
      "source": [
        "label_map = convert_classes(['helmet', 'head', 'person'])\n",
        "with open(\"tf_label_map.pbtxt\", \"w\") as f:\n",
        "    f.write(label_map)\n",
        "    f.close()"
      ],
      "execution_count": null,
      "outputs": []
    },
    {
      "cell_type": "code",
      "metadata": {
        "id": "fL9AwqBDuGot"
      },
      "source": [
        "df = pd.read_csv('/content/drive/MyDrive/Wobot.ai/test_labels.csv')"
      ],
      "execution_count": null,
      "outputs": []
    },
    {
      "cell_type": "code",
      "metadata": {
        "id": "0HLBeDA3vY41"
      },
      "source": [
        "df2 = df.rename(columns={'name':'filename'})"
      ],
      "execution_count": null,
      "outputs": []
    },
    {
      "cell_type": "code",
      "metadata": {
        "id": "s02CpciMvaXz"
      },
      "source": [
        "df2.to_csv('/content/drive/MyDrive/Wobot.ai/models/research/object_detection/data/test_labels.csv',index=None)"
      ],
      "execution_count": null,
      "outputs": []
    },
    {
      "cell_type": "code",
      "metadata": {
        "id": "HPJaXILovi01"
      },
      "source": [
        "df3 = pd.read_csv('/content/drive/MyDrive/Wobot.ai/train_labels.csv')"
      ],
      "execution_count": null,
      "outputs": []
    },
    {
      "cell_type": "code",
      "metadata": {
        "id": "KedjYSDi7ROe"
      },
      "source": [
        "df4 = df3.rename(columns={'name':'filename'})"
      ],
      "execution_count": null,
      "outputs": []
    },
    {
      "cell_type": "code",
      "metadata": {
        "id": "rBdA799u7a4i"
      },
      "source": [
        "df4.to_csv('/content/drive/MyDrive/Wobot.ai/models/research/object_detection/data/train_labels.csv',index=None)"
      ],
      "execution_count": null,
      "outputs": []
    },
    {
      "cell_type": "code",
      "metadata": {
        "id": "9ZtJtNow7ctE"
      },
      "source": [
        ""
      ],
      "execution_count": null,
      "outputs": []
    }
  ]
}